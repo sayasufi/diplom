{
 "cells": [
  {
   "cell_type": "markdown",
   "metadata": {},
   "source": [
    "# Dynamics of INS errors"
   ]
  },
  {
   "cell_type": "code",
   "execution_count": 1,
   "metadata": {},
   "source": [
    "import numpy as np\n",
    "import pandas as pd\n",
    "from scipy.linalg import eigvals\n",
    "import matplotlib.pyplot as plt\n",
    "import pyins\n",
    "\n",
    "plt.rcParams['figure.figsize'] = (10, 6)\n",
    "plt.rcParams['axes.grid'] = True\n",
    "plt.rcParams['font.size'] = 12"
   ],
   "outputs": []
  },
  {
   "cell_type": "markdown",
   "metadata": {},
   "source": [
    "This example demonstrates the long-term behaviour of errors of an Inertial Navigation System (INS). The errors (as long as they small enough) are described by a system of linear ODEs. When the system matrix is constant (INS resting on bench, straight flight at a constant speed) the system can be solved in a closed formed, but even in this case it is a cumbersome procedure. So pyins provides a simple routine for numerical propagation of INS errors."
   ]
  },
  {
   "cell_type": "markdown",
   "metadata": {},
   "source": [
    "## Generate Trajectory"
   ]
  },
  {
   "cell_type": "markdown",
   "metadata": {},
   "source": [
    "We will use a straight and level flight as a trajectory, with a speed of 90 m/s directed eastward.\n",
    "We are going to generate data for 48 hours to consider a long-term behaviour of the errors. "
   ]
  },
  {
   "cell_type": "code",
   "execution_count": 2,
   "metadata": {},
   "source": [
    "trajectory, _ = pyins.sim.sinusoid_velocity_motion(1, 48 * 3600, [30, 30, 0], [0, 90, 0])"
   ],
   "outputs": []
  },
  {
   "cell_type": "code",
   "execution_count": 3,
   "metadata": {},
   "source": [
    "trajectory.head()"
   ],
   "outputs": []
  },
  {
   "cell_type": "markdown",
   "metadata": {},
   "source": [
    "To avoid exponential divergence of altitude and vertical velocity we use a contrained error model where the corresponding errors are excluded (`with_altitude=False`)."
   ]
  },
  {
   "cell_type": "markdown",
   "metadata": {},
   "source": [
    "## Eigenvalues of the error model ODEs system matrix"
   ]
  },
  {
   "cell_type": "markdown",
   "metadata": {},
   "source": [
    "In our case the system matrix is constant, so we can analyze its behaviour by finding the eigenvalues."
   ]
  },
  {
   "cell_type": "code",
   "execution_count": 4,
   "metadata": {},
   "source": [
    "error_model = pyins.error_model.InsErrorModel(with_altitude=False)"
   ],
   "outputs": []
  },
  {
   "cell_type": "code",
   "execution_count": 5,
   "metadata": {},
   "source": [
    "F, _, _ = error_model.system_matrices(trajectory.iloc[0])"
   ],
   "outputs": []
  },
  {
   "cell_type": "code",
   "execution_count": 6,
   "metadata": {},
   "source": [
    "eigvals(F)"
   ],
   "outputs": []
  },
  {
   "cell_type": "markdown",
   "metadata": {},
   "source": [
    "We see that there are 3 pure imaginary complex conjugate pairs and one zero eigenvalue.\n",
    "It means that the behavior of the system is oscillatory with the periods of 81.5 minutes, 87.6 minutes and 21.6 hours.\n",
    "The first two are slightly perturbed so called Schuller period, which is nominally 84 minutes. \n",
    "The last one is related to Earth rotation, but with angular rate adjusted for eastward motion.\n",
    "The zero eigenvalue corresponds to the cyclic property of longitude."
   ]
  },
  {
   "cell_type": "markdown",
   "metadata": {},
   "source": [
    "## Example of errors evolution without sensor errors"
   ]
  },
  {
   "cell_type": "markdown",
   "metadata": {},
   "source": [
    "Here we illustrates the previous findings by computing the errors solution for some initial values."
   ]
  },
  {
   "cell_type": "code",
   "execution_count": 7,
   "metadata": {},
   "source": [
    "def plot_errors(error):\n",
    "    time = error.index / 3600\n",
    "    \n",
    "    plt.figure(figsize=(10, 10))\n",
    "    \n",
    "    plt.subplot(331)\n",
    "    plt.title(\"north, m\")\n",
    "    plt.plot(time, error.north)\n",
    "\n",
    "    plt.subplot(334)\n",
    "    plt.title(\"east, m\")\n",
    "    plt.plot(time, error.east)\n",
    "    \n",
    "    plt.subplot(332)\n",
    "    plt.title(\"VN, m/s\")\n",
    "    plt.plot(time, error.VN)\n",
    "    \n",
    "    plt.subplot(335)\n",
    "    plt.title(\"VE, m/s\")\n",
    "    plt.plot(time, error.VE)\n",
    "\n",
    "    plt.subplot(333)\n",
    "    plt.title(\"roll, deg\")\n",
    "    plt.plot(time, error.roll)\n",
    "    \n",
    "    plt.subplot(336)\n",
    "    plt.title(\"pitch, deg\")\n",
    "    plt.plot(time, error.pitch)\n",
    "    \n",
    "    plt.subplot(339)\n",
    "    plt.title(\"heading, deg\")\n",
    "    plt.plot(time, error.heading)\n",
    "    \n",
    "    plt.suptitle(\"INS error vs time in hours\")\n",
    "    plt.tight_layout()"
   ],
   "outputs": []
  },
  {
   "cell_type": "code",
   "execution_count": 8,
   "metadata": {},
   "source": [
    "pva_error = pd.Series({\n",
    "    'north': 500,\n",
    "    'east': -300,\n",
    "    'down': 0,\n",
    "    'VN': -1,\n",
    "    'VE': 2,\n",
    "    'VD': 0,\n",
    "    'roll': -0.02,\n",
    "    'pitch': 0.01,\n",
    "    'heading': 0.05\n",
    "})\n",
    "errors, _ = pyins.error_model.propagate_errors(trajectory, pva_error, with_altitude=False)\n",
    "plot_errors(errors)"
   ],
   "outputs": []
  },
  {
   "cell_type": "markdown",
   "metadata": {},
   "source": [
    "It's easy to compute responses to individual initial error components and thus compute the full transition matrix. But it will be hard and cumbersome to illustrate such result. \n",
    "\n",
    "A simpler way is to repeat computations with some initial errors disabled and compare the results with the full picture. By such approach the following conclusions can be easily verified:\n",
    "\n",
    "1. An initial longitude error doesn't excite other errors and doesn't evolve itself. It means that it's impossible to distinguish between different values of longitude and the navigation can be started from any value. This component is described by the zero eigenvalue found in the system.\n",
    "2. An initial latitude error doesn't influence other errors significantly.\n",
    "3. Velocity, pitch and roll errors form a subsystem weakly influenced by other errors.\n",
    "4. Heading error is mostly determined by initial heading, pitch and roll errors.\n",
    "\n",
    "Note that 2, 3, 4 are true as long as $\\Delta r / A$ ($\\Delta r$ is the position error and $A$ is Earth radius) is significantly less than attitude errors."
   ]
  },
  {
   "cell_type": "markdown",
   "metadata": {},
   "source": [
    "## Errors due accelerometer biases"
   ]
  },
  {
   "cell_type": "markdown",
   "metadata": {},
   "source": [
    "Now we investigate errors propagation when the inertial sensors containing constant biases."
   ]
  },
  {
   "cell_type": "markdown",
   "metadata": {},
   "source": [
    "We consider errors due to the East accelerometer bias (keep in mind that the attitude is constant and the heading is 90 degrees)."
   ]
  },
  {
   "cell_type": "code",
   "execution_count": 9,
   "metadata": {},
   "source": [
    "errors, _ = pyins.error_model.propagate_errors(trajectory, accel_error=[1e-2, 0, 0], with_altitude=False)\n",
    "plot_errors(errors)"
   ],
   "outputs": []
  },
  {
   "cell_type": "markdown",
   "metadata": {},
   "source": [
    "We see that accelerometer biases also creates oscillatory errors. The things worth noting are that east (longitude), pitch and heading errors are biased relative to zero by their oscillation amplitudes. \n",
    "\n",
    "Errors due to the North bias are conceptually the same, with East and North axes switched. The heading error won't have a bias.\n",
    "\n",
    "Errors due to the vertical accelerometer bias is irrelevant for horizontal errors components."
   ]
  },
  {
   "cell_type": "markdown",
   "metadata": {},
   "source": [
    "## Errors due to gyroscope biases"
   ]
  },
  {
   "cell_type": "markdown",
   "metadata": {},
   "source": [
    "First consider errors due to the East gyro bias."
   ]
  },
  {
   "cell_type": "code",
   "execution_count": 10,
   "metadata": {},
   "source": [
    "errors, _ = pyins.error_model.propagate_errors(trajectory, gyro_error=[1e-7, 0, 0], with_altitude=False)\n",
    "plot_errors(errors)"
   ],
   "outputs": []
  },
  {
   "cell_type": "markdown",
   "metadata": {},
   "source": [
    "We see that errors are bounded, with east (longitude) and heading errors biased by the value of their amplitudes."
   ]
  },
  {
   "cell_type": "markdown",
   "metadata": {},
   "source": [
    "Now consider errors due to the North bias."
   ]
  },
  {
   "cell_type": "code",
   "execution_count": 11,
   "metadata": {},
   "source": [
    "errors, _ = pyins.error_model.propagate_errors(trajectory, gyro_error=[0, -1e-7, 0], with_altitude=False)\n",
    "plot_errors(errors)"
   ],
   "outputs": []
  },
  {
   "cell_type": "markdown",
   "metadata": {},
   "source": [
    "This is the first case when the error in longitude growths approximately linearly to an unbounded value. \n",
    "The theoretical rate of the longitude error growth is $A \\epsilon_N \\cos^2 \\varphi$ , where $\\varphi$ is the latitude and $\\epsilon_N$ is the North gyro bias. "
   ]
  },
  {
   "cell_type": "markdown",
   "metadata": {},
   "source": [
    "In our case the growth in kilometers per hour is equal to:"
   ]
  },
  {
   "cell_type": "code",
   "execution_count": 12,
   "metadata": {},
   "source": [
    "lat = np.deg2rad(trajectory.lat.iloc[0])\n",
    "1e-7 * pyins.earth.A * 3.6 * np.cos(lat) ** 2"
   ],
   "outputs": []
  },
  {
   "cell_type": "markdown",
   "metadata": {},
   "source": [
    "So the expected final error is 1.72 * 48 = 82.5 km, which matches well with the simulation results."
   ]
  },
  {
   "cell_type": "markdown",
   "metadata": {},
   "source": [
    "Now consider errors due to the vertical bias."
   ]
  },
  {
   "cell_type": "code",
   "execution_count": 13,
   "metadata": {},
   "source": [
    "errors, _ = pyins.error_model.propagate_errors(trajectory, gyro_error=[0, 0, -1e-7], with_altitude=False) \n",
    "plot_errors(errors)"
   ],
   "outputs": []
  },
  {
   "cell_type": "markdown",
   "metadata": {},
   "source": [
    "In this case the longitude error also growths unbounded. The rate of growth is equal to $-A \\epsilon_D \\sin \\varphi \\cos \\varphi$, with $\\epsilon_D$ being a gyro bias in down direction."
   ]
  },
  {
   "cell_type": "code",
   "execution_count": 14,
   "metadata": {},
   "source": [
    "1e-7 * pyins.earth.A * 3.6 * np.sin(lat) * np.cos(lat)"
   ],
   "outputs": []
  },
  {
   "cell_type": "markdown",
   "metadata": {},
   "source": [
    "And the expected final error is 0.99 * 48 = 47.5 km. The simulation value is slightly lower because of sinusoidal modulations."
   ]
  },
  {
   "cell_type": "markdown",
   "metadata": {},
   "source": [
    "## Conclusion"
   ]
  },
  {
   "cell_type": "markdown",
   "metadata": {},
   "source": [
    "When the coefficients of the error equations are constant, then:\n",
    "\n",
    "1. The horizontal INS errors contain only oscillatory modes. The two periods are 24 hours (corrected by a vehicle East velocity) and the 84 minutes (slightly perturbed depending on a latitude and a vehicle's velocity).\n",
    "2. The response to constant accelerometer biases is also bounded and oscillatory. The same holds true for a constant East gyro bias.\n",
    "3. In a presence of North and vertical gyro biases the longitude error growths unbounded, with the rate of growth equal to $R \\varepsilon_Z$, where $\\varepsilon_Z$ is projection of the gyro bias on Earth rotation axis. And this is the only unbounded error. It proves the fact that the long-term pure inertial performance of a precise INS is determined by gyroscopes accuracy.\n",
    "\n",
    "Generally, the behaviour of INS errors can be analyzed at any level of detail and for arbitrary trajectories using pyins."
   ]
  },
  {
   "cell_type": "code",
   "execution_count": null,
   "metadata": {},
   "source": [],
   "outputs": []
  }
 ],
 "metadata": {
  "kernelspec": {
   "display_name": "Python 3 (ipykernel)",
   "language": "python",
   "name": "python3"
  },
  "language_info": {
   "codemirror_mode": {
    "name": "ipython",
    "version": 3
   },
   "file_extension": ".py",
   "mimetype": "text/x-python",
   "name": "python",
   "nbconvert_exporter": "python",
   "pygments_lexer": "ipython3",
   "version": "3.10.13"
  }
 },
 "nbformat": 4,
 "nbformat_minor": 1
}
