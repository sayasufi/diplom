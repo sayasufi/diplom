{
 "cells": [
  {
   "cell_type": "markdown",
   "id": "279d3f10",
   "metadata": {},
   "source": [
    "# Verification of INS filter performance by Monte Carlo simulation"
   ]
  },
  {
   "cell_type": "code",
   "execution_count": 1,
   "id": "23e97063",
   "metadata": {},
   "source": [
    "import numpy as np\n",
    "import matplotlib.pyplot as plt\n",
    "import pyins\n",
    "\n",
    "plt.rcParams['figure.figsize'] = (10, 6)\n",
    "plt.rcParams['axes.grid'] = True\n",
    "plt.rcParams['font.size'] = 12"
   ],
   "outputs": []
  },
  {
   "cell_type": "markdown",
   "id": "db5bc23a",
   "metadata": {},
   "source": [
    "This example demonstrates how to implement Monte Carlo simulation to verify INS Kalman filter performance."
   ]
  },
  {
   "cell_type": "markdown",
   "id": "94657597",
   "metadata": {},
   "source": [
    "The Monte Carlo method follows the steps:\n",
    "\n",
    "1. Setup the modelling trajectory, ideal measurements and statistical parameters of the errors\n",
    "2. Execute the filter N time applying independent random errors according to the model.\n",
    "   Record the estimate parameters errors and predicted standard deviations from the filter\n",
    "3. Compute root-mean-squared (RMS) values of the errors and compare them with the standard deviations (SD) from the filter.\n",
    "   The computed RMS values must be in a good agreement with SD values\n",
    "\n",
    "Note that the variance of RMS is decreasing approximately as $1/N$ (and its SD as $1/\\sqrt{N}$).\n",
    "It means that getting low variance can require many repetitions.\n",
    "\n",
    "In principle the runs can be executed in parralel (and probaly should for serious simulations).\n",
    "In this case the random number generators in parralel threads must be independent from each other, which is not trivial to achieve.\n",
    "Here we will use a single thread simulation with small number of repetitions."
   ]
  },
  {
   "cell_type": "markdown",
   "id": "45183972",
   "metadata": {},
   "source": [
    "## Trajectory setup"
   ]
  },
  {
   "cell_type": "markdown",
   "id": "d17a9981",
   "metadata": {},
   "source": [
    "For simplicity we will use a synthetic (and not very realistic) trajectory consisting of loops along with a mean motion."
   ]
  },
  {
   "cell_type": "code",
   "execution_count": 2,
   "id": "dde20366",
   "metadata": {},
   "source": [
    "trajectory_true, imu_true = pyins.sim.sinusoid_velocity_motion(\n",
    "    0.05, 600.0, [58, 56, 0], [10.0, -10.0, -1.0], \n",
    "    velocity_change_amplitude=60.0, velocity_change_period=30)"
   ],
   "outputs": []
  },
  {
   "cell_type": "markdown",
   "id": "1bdd4373",
   "metadata": {},
   "source": [
    "Let's visualize the trajectory in East-North plane."
   ]
  },
  {
   "cell_type": "code",
   "execution_count": 3,
   "id": "33c3349f",
   "metadata": {},
   "source": [
    "ned = pyins.transform.lla_to_ned(trajectory_true)\n",
    "\n",
    "plt.plot(ned.east, ned.north)\n",
    "plt.xlabel(\"East, m\")\n",
    "plt.ylabel(\"North, m\")\n",
    "plt.axis('equal');"
   ],
   "outputs": []
  },
  {
   "cell_type": "markdown",
   "id": "7cdb129e",
   "metadata": {},
   "source": [
    "Such trajectory allows for gyro scale factor and misalignment estimation for axis Z (because there is sufficient rotations around it). "
   ]
  },
  {
   "cell_type": "markdown",
   "id": "8b3009e0",
   "metadata": {},
   "source": [
    "## Error and noise parameters"
   ]
  },
  {
   "cell_type": "markdown",
   "id": "0eaf0f82",
   "metadata": {},
   "source": [
    "Now let's define error and noise parameters."
   ]
  },
  {
   "cell_type": "markdown",
   "id": "eeb9d13e",
   "metadata": {},
   "source": [
    "Initial position-velocity-attitude error standard deviations:"
   ]
  },
  {
   "cell_type": "code",
   "execution_count": 4,
   "id": "06f7694a",
   "metadata": {},
   "source": [
    "initial_position_sd = 10.0\n",
    "initival_velocity_sd = 0.3\n",
    "initial_level_sd = 0.1\n",
    "initial_azimuth_sd = 0.5"
   ],
   "outputs": []
  },
  {
   "cell_type": "markdown",
   "id": "37cb4ede",
   "metadata": {},
   "source": [
    "For IMU we take a medium grade MEMS sensor.\n",
    "We model initial bias, noise and misalignment and scale errors for gyros Z axis."
   ]
  },
  {
   "cell_type": "code",
   "execution_count": 5,
   "id": "a992f0d1",
   "metadata": {},
   "source": [
    "gyro_model = pyins.inertial_sensor.EstimationModel(\n",
    "    bias_sd=100.0 * pyins.transform.DH_TO_RS, \n",
    "    noise=1.0 * pyins.transform.DRH_TO_RRS,\n",
    "    bias_walk=10.0 * pyins.transform.DH_TO_RS / 60,\n",
    "    scale_misal_sd=[[0, 0, 0.01], \n",
    "                    [0, 0, 0.01], \n",
    "                    [0, 0, 0.01]])\n",
    "\n",
    "accel_model = pyins.inertial_sensor.EstimationModel(\n",
    "    bias_sd=0.05,\n",
    "    noise=0.1 / 60,\n",
    "    bias_walk=0.001 / 60\n",
    ")"
   ],
   "outputs": []
  },
  {
   "cell_type": "markdown",
   "id": "d05b9611",
   "metadata": {},
   "source": [
    "As external measuremenets we use GNSS position fixes with the following parameters:"
   ]
  },
  {
   "cell_type": "code",
   "execution_count": 6,
   "id": "100e14b0",
   "metadata": {},
   "source": [
    "gnss_period = 1\n",
    "gnss_position_sd = 2"
   ],
   "outputs": []
  },
  {
   "cell_type": "markdown",
   "id": "07d62aaa",
   "metadata": {},
   "source": [
    "## Running simulation"
   ]
  },
  {
   "cell_type": "markdown",
   "id": "d967dc78",
   "metadata": {},
   "source": [
    "To represent the code in a more solid way, let's write function which execute a single run and the full simulation."
   ]
  },
  {
   "cell_type": "code",
   "execution_count": 7,
   "id": "71addf9c",
   "metadata": {},
   "source": [
    "def run_single(trajectory_true, imu_true, gnss_lla_true,\n",
    "               gyro_model, accel_model, \n",
    "               position_sd, velocity_sd, level_sd, azimuth_sd, \n",
    "               gnss_position_sd, filter_time_step, rng):\n",
    "    gyro_parameters = pyins.inertial_sensor.Parameters.from_EstimationModel(gyro_model, rng=rng)\n",
    "    accel_parameters = pyins.inertial_sensor.Parameters.from_EstimationModel(accel_model, rng=rng)\n",
    "    \n",
    "    imu = pyins.inertial_sensor.apply_imu_parameters(imu_true, 'rate', gyro_parameters, accel_parameters)\n",
    "    increments = pyins.strapdown.compute_increments_from_imu(imu, 'rate')\n",
    "    \n",
    "    gnss_measurement = pyins.measurements.Position(\n",
    "        pyins.sim.generate_position_measurements(gnss_lla_true, gnss_position_sd, rng), \n",
    "        gnss_position_sd)\n",
    "    \n",
    "    pva_error = pyins.sim.generate_pva_error(position_sd, velocity_sd, level_sd, azimuth_sd, rng=rng)\n",
    "    pva_initial = pyins.sim.perturb_pva(trajectory_true.iloc[0], pva_error)\n",
    "    \n",
    "    filter_result = pyins.filters.run_feedback_filter(\n",
    "        pva_initial, position_sd, velocity_sd, level_sd, azimuth_sd,\n",
    "        increments, gyro_model, accel_model, \n",
    "        measurements=[gnss_measurement], time_step=filter_time_step)\n",
    "        \n",
    "    return pyins.util.Bunch(\n",
    "        trajectory=pyins.transform.compute_state_difference(filter_result.trajectory, trajectory_true),\n",
    "        gyro=pyins.transform.compute_state_difference(filter_result.gyro, gyro_parameters.data_frame),\n",
    "        accel=pyins.transform.compute_state_difference(filter_result.accel, accel_parameters.data_frame),\n",
    "        trajectory_sd=filter_result.trajectory_sd,\n",
    "        gyro_sd=filter_result.gyro_sd,\n",
    "        accel_sd=filter_result.accel_sd\n",
    "    )"
   ],
   "outputs": []
  },
  {
   "cell_type": "code",
   "execution_count": 8,
   "id": "7f5e3098",
   "metadata": {},
   "source": [
    "def run_monte_carlo(n_runs, trajectory_true, imu_true, \n",
    "                    gyro_model, accel_model, \n",
    "                    position_sd, velocity_sd, level_sd, azimuth_sd, \n",
    "                    gnss_period, gnss_position_sd, \n",
    "                    filter_time_step, rng):    \n",
    "    gnss_lla_true = pyins.transform.resample_state(\n",
    "        trajectory_true[pyins.util.LLA_COLS], \n",
    "        np.arange(trajectory_true.index[0], trajectory_true.index[-1], gnss_period))\n",
    "    \n",
    "    trajectory_error_sq = 0\n",
    "    gyro_error_sq = 0\n",
    "    accel_error_sq = 0\n",
    "\n",
    "    trajectory_error_sd = 0\n",
    "    gyro_error_sd = 0\n",
    "    accel_error_sd = 0\n",
    "    \n",
    "    for run in range(n_runs):\n",
    "        result = run_single(\n",
    "            trajectory_true, imu_true, gnss_lla_true, \n",
    "            gyro_model, accel_model, \n",
    "            position_sd, velocity_sd, level_sd, azimuth_sd, \n",
    "            gnss_position_sd, filter_time_step, rng)\n",
    "    \n",
    "        trajectory_error_sq += result.trajectory ** 2\n",
    "        gyro_error_sq += result.gyro ** 2\n",
    "        accel_error_sq += result.accel ** 2\n",
    "\n",
    "        trajectory_error_sd += result.trajectory_sd\n",
    "        gyro_error_sd += result.gyro_sd\n",
    "        accel_error_sd += result.accel_sd\n",
    "            \n",
    "    return pyins.util.Bunch(\n",
    "        trajectory_rms=(trajectory_error_sq / n_runs) ** 0.5,\n",
    "        gyro_rms=(gyro_error_sq / n_runs) ** 0.5,\n",
    "        accel_rms=(accel_error_sq / n_runs) ** 0.5,\n",
    "        trajectory_sd=trajectory_error_sd / n_runs,\n",
    "        gyro_sd=gyro_error_sd / n_runs,\n",
    "        accel_sd=accel_error_sd / n_runs\n",
    "    )"
   ],
   "outputs": []
  },
  {
   "cell_type": "markdown",
   "id": "99aa4893",
   "metadata": {},
   "source": [
    "Now let's run simulation with 100 repetitions.\n",
    "\n",
    "In the filter we use 1 second for the covariance propagation.\n",
    "This value is rather high for production algorithms, but it is sufficient for simulation purposes and will save us time.\n",
    "\n",
    "Note that a single random generator must be used for all the runs to make the independent."
   ]
  },
  {
   "cell_type": "code",
   "execution_count": 9,
   "id": "977acb8d",
   "metadata": {},
   "source": [
    "rng = np.random.RandomState(123456789)\n",
    "filter_time_step = 1.0\n",
    "n_runs = 100\n",
    "\n",
    "mc_result = run_monte_carlo(\n",
    "    n_runs, trajectory_true, imu_true, \n",
    "    gyro_model, accel_model, \n",
    "    initial_position_sd, initival_velocity_sd, initial_level_sd, initial_azimuth_sd,\n",
    "    gnss_period, gnss_position_sd, \n",
    "    filter_time_step, rng)"
   ],
   "outputs": []
  },
  {
   "cell_type": "markdown",
   "id": "6f7eddf2",
   "metadata": {},
   "source": [
    "## Result analysis"
   ]
  },
  {
   "cell_type": "markdown",
   "id": "334a7f93",
   "metadata": {},
   "source": [
    "There is no single correct way to asses Monte Carlo simulation results.\n",
    "One way is to plot RMS and SD curves and use qualitative judgement.\n",
    "\n",
    "Implement a function to conveniently plot RMS and SD values."
   ]
  },
  {
   "cell_type": "code",
   "execution_count": 10,
   "id": "345b423c",
   "metadata": {},
   "source": [
    "def plot_rms_and_sd(rms, sd, title):\n",
    "    n_states = rms.shape[1]\n",
    "    n_cols = 3\n",
    "    n_rows = (n_states + n_cols - 1) // n_cols    \n",
    "    \n",
    "    plt.figure(figsize=(3 * n_cols, 3 * n_rows))\n",
    "    for i, col in enumerate(rms.columns, start=1):\n",
    "        plt.subplot(n_rows, n_cols, i)\n",
    "        plt.title(col)\n",
    "        plt.plot(rms[col], label='rms')\n",
    "        plt.plot(sd[col], label='sd')\n",
    "        plt.ylim(0, plt.ylim()[1])\n",
    "        plt.legend()\n",
    "    \n",
    "    plt.suptitle(title)\n",
    "    plt.tight_layout()"
   ],
   "outputs": []
  },
  {
   "cell_type": "markdown",
   "id": "954a516a",
   "metadata": {},
   "source": [
    "Plot RMS and SD for trajectory, gyro and accelerometer parameter errors."
   ]
  },
  {
   "cell_type": "code",
   "execution_count": 11,
   "id": "7f488c3d",
   "metadata": {},
   "source": [
    "plot_rms_and_sd(mc_result.trajectory_rms, mc_result.trajectory_sd, \"Trajectory errors\")"
   ],
   "outputs": []
  },
  {
   "cell_type": "code",
   "execution_count": 12,
   "id": "207eb2aa",
   "metadata": {},
   "source": [
    "plot_rms_and_sd(mc_result.gyro_rms, mc_result.gyro_sd, \"Gyro parameter errors\")"
   ],
   "outputs": []
  },
  {
   "cell_type": "code",
   "execution_count": 13,
   "id": "1b3e5f93",
   "metadata": {},
   "source": [
    "plot_rms_and_sd(mc_result.accel_rms, mc_result.accel_sd, \"Accelerometer parameter errors\")"
   ],
   "outputs": []
  },
  {
   "cell_type": "markdown",
   "id": "0425dc94",
   "metadata": {},
   "source": [
    "Generally the following factors may contribute into the difference between RMS and SD:\n",
    "\n",
    "1. Finite number of Monte Carlo runs\n",
    "2. Approximate nature of the estimation algorithm (Extended Kalman Filter), especially when the errors are not sufficiently small (initial period)\n",
    "3. Mismatch between truth and filter models\n",
    "4. Bugs, mistakes and nuanses in the implementation\n",
    "\n",
    "The purpose of Monte Carlo simulation is typically to eliminate the reasons 3 and 4, and if necessary tune and improve the algorithm by introducing some smart tweaks to it.\n",
    "\n",
    "Here we observe an adequate match which tells us that probably issues 3 and 4 can be excluded. That is the algorithm is at least adequate, which was the goal for pyins code."
   ]
  },
  {
   "cell_type": "code",
   "execution_count": null,
   "id": "0b3d636f",
   "metadata": {},
   "source": [],
   "outputs": []
  }
 ],
 "metadata": {
  "kernelspec": {
   "display_name": "Python 3 (ipykernel)",
   "language": "python",
   "name": "python3"
  },
  "language_info": {
   "codemirror_mode": {
    "name": "ipython",
    "version": 3
   },
   "file_extension": ".py",
   "mimetype": "text/x-python",
   "name": "python",
   "nbconvert_exporter": "python",
   "pygments_lexer": "ipython3",
   "version": "3.10.13"
  }
 },
 "nbformat": 4,
 "nbformat_minor": 5
}
