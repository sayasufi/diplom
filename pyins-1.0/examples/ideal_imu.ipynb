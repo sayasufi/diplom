{
 "cells": [
  {
   "cell_type": "markdown",
   "id": "48d1d86c",
   "metadata": {},
   "source": [
    "# Synthesis and integration of ideal IMU data"
   ]
  },
  {
   "cell_type": "code",
   "execution_count": 1,
   "id": "cc350668",
   "metadata": {},
   "source": [
    "import pandas as pd\n",
    "import matplotlib.pyplot as plt\n",
    "import pyins\n",
    "\n",
    "plt.rcParams['figure.figsize'] = (10, 6)\n",
    "plt.rcParams['axes.grid'] = True\n",
    "plt.rcParams['font.size'] = 12"
   ],
   "outputs": []
  },
  {
   "cell_type": "markdown",
   "id": "7195d3b1",
   "metadata": {},
   "source": [
    "In this example we show how to generate IMU readings and check that they are appropriate.\n",
    "\n",
    "We use a real-world trajectory computed with a postprocessing algorithm."
   ]
  },
  {
   "cell_type": "code",
   "execution_count": 2,
   "id": "31de5aee",
   "metadata": {},
   "source": [
    "reference_trajectory = pd.read_csv(\"data/reference_trajectory.csv\", index_col='time')"
   ],
   "outputs": []
  },
  {
   "cell_type": "code",
   "execution_count": 3,
   "id": "0201c1b1",
   "metadata": {},
   "source": [
    "reference_trajectory.head()"
   ],
   "outputs": []
  },
  {
   "cell_type": "markdown",
   "id": "eade2f16",
   "metadata": {},
   "source": [
    "## Using original trajectory"
   ]
  },
  {
   "cell_type": "markdown",
   "id": "52aa36c0",
   "metadata": {},
   "source": [
    "The recorded trajectory has one issue that velocity and attitude data are written with low number of digits.\n",
    "\n",
    "If we try to generate IMU using it directly we will get very \"noisy\" and unrealistic IMU readings:"
   ]
  },
  {
   "cell_type": "code",
   "execution_count": 4,
   "id": "d7cc05bb",
   "metadata": {},
   "source": [
    "trajectory, imu = pyins.sim.generate_imu(reference_trajectory.index, \n",
    "                                         reference_trajectory[pyins.util.LLA_COLS], \n",
    "                                         reference_trajectory[pyins.util.RPH_COLS])"
   ],
   "outputs": []
  },
  {
   "cell_type": "code",
   "execution_count": 5,
   "id": "eab9d837",
   "metadata": {},
   "source": [
    "plt.plot(imu.accel_x)\n",
    "plt.title(\"Accelerometer X readings, m/s^2\")\n",
    "plt.xlabel(\"System time, s\")"
   ],
   "outputs": []
  },
  {
   "cell_type": "markdown",
   "id": "cf6df9ad",
   "metadata": {},
   "source": [
    "It's not a good idea to use such IMU data for several reasons. To alleviate this issue the trajectory must be smoothed."
   ]
  },
  {
   "cell_type": "markdown",
   "id": "626afce5",
   "metadata": {},
   "source": [
    "## Using smoothed trajectory"
   ]
  },
  {
   "cell_type": "markdown",
   "id": "16ccf70b",
   "metadata": {},
   "source": [
    "pyins provides a convenient function to easily smooth any data with special handling of rotations.\n",
    "\n",
    "Here we use smoothing time of 1 second:"
   ]
  },
  {
   "cell_type": "code",
   "execution_count": 6,
   "id": "efececb2",
   "metadata": {},
   "source": [
    "smooth_trajectory = pyins.transform.smooth_state(reference_trajectory, 1.0)"
   ],
   "outputs": []
  },
  {
   "cell_type": "markdown",
   "id": "078eb1cd",
   "metadata": {},
   "source": [
    "Let's demonstrate how smoothing worked for the roll angle:"
   ]
  },
  {
   "cell_type": "code",
   "execution_count": 7,
   "id": "48a95d7b",
   "metadata": {},
   "source": [
    "plt.title(\"Pitch angle, deg\")\n",
    "plt.plot(reference_trajectory.roll.loc[40:50], label='Original data')\n",
    "plt.plot(smooth_trajectory.roll.loc[40:50], label='Smoothed data')\n",
    "plt.legend()\n",
    "plt.xlabel(\"System time, s\")"
   ],
   "outputs": []
  },
  {
   "cell_type": "markdown",
   "id": "8f392184",
   "metadata": {},
   "source": [
    "Generate IMU readings (rate values) using smoothed position and attitude data:"
   ]
  },
  {
   "cell_type": "code",
   "execution_count": 8,
   "id": "58f9a88a",
   "metadata": {},
   "source": [
    "trajectory, imu = pyins.sim.generate_imu(smooth_trajectory.index, \n",
    "                                         smooth_trajectory[pyins.util.LLA_COLS], \n",
    "                                         smooth_trajectory[pyins.util.RPH_COLS])"
   ],
   "outputs": []
  },
  {
   "cell_type": "markdown",
   "id": "a95c38fe",
   "metadata": {},
   "source": [
    "We can see that accelerometer readings are now adeqaute:"
   ]
  },
  {
   "cell_type": "code",
   "execution_count": 9,
   "id": "6df8ec95",
   "metadata": {},
   "source": [
    "plt.plot(imu.accel_x)\n",
    "plt.title(\"Accelerometer X readings, m/s^2\")\n",
    "plt.xlabel(\"System time, s\")"
   ],
   "outputs": []
  },
  {
   "cell_type": "markdown",
   "id": "975fa4de",
   "metadata": {},
   "source": [
    "## Integration of IMU data"
   ]
  },
  {
   "cell_type": "markdown",
   "id": "230c2c57",
   "metadata": {},
   "source": [
    "Now compute increments and integrate them with strapdown algorithm:"
   ]
  },
  {
   "cell_type": "code",
   "execution_count": 10,
   "id": "d0240436",
   "metadata": {},
   "source": [
    "increments = pyins.strapdown.compute_increments_from_imu(imu, 'rate')\n",
    "\n",
    "integrator = pyins.strapdown.Integrator(trajectory.iloc[0])\n",
    "trajectory_computed = integrator.integrate(increments)"
   ],
   "outputs": []
  },
  {
   "cell_type": "markdown",
   "id": "3e4b226e",
   "metadata": {},
   "source": [
    "We can compare computed and original trajectories:"
   ]
  },
  {
   "cell_type": "code",
   "execution_count": 11,
   "id": "b49a33d8",
   "metadata": {},
   "source": [
    "error = pyins.transform.compute_state_difference(trajectory_computed, trajectory)"
   ],
   "outputs": []
  },
  {
   "cell_type": "markdown",
   "id": "13e8eef2",
   "metadata": {},
   "source": [
    "Plot position, velocity and attitude errors:"
   ]
  },
  {
   "cell_type": "code",
   "execution_count": 12,
   "id": "1204ef3a",
   "metadata": {},
   "source": [
    "plt.figure(figsize=(10, 10))\n",
    "\n",
    "plt.subplot(311)\n",
    "plt.title(\"Position errors, m\")\n",
    "plt.plot(error.north)\n",
    "plt.plot(error.east)\n",
    "plt.plot(error.down)\n",
    "\n",
    "plt.subplot(312)\n",
    "plt.title(\"Velocity errors, m/s\")\n",
    "plt.plot(error.VN)\n",
    "plt.plot(error.VE)\n",
    "plt.plot(error.VD)\n",
    "\n",
    "plt.subplot(313)\n",
    "plt.title(\"Roll, pitch and heading errors, deg\")\n",
    "plt.plot(error.roll)\n",
    "plt.plot(error.pitch)\n",
    "plt.plot(error.heading)\n",
    "\n",
    "plt.tight_layout()"
   ],
   "outputs": []
  },
  {
   "cell_type": "markdown",
   "id": "c425f55d",
   "metadata": {},
   "source": [
    "Such errors are essentially non-existent for pure inertial navigation and thus the generated IMU readings can be considered \"ideal\" for practical purposes. Also note that an integration algorithm will always accumulate some error anyway.\n",
    "\n",
    "The process of synthesis and integration of IMU data sometimes is called \"zero test\", i. e. generated IMU data must give almost zero errors with respect to the original trajectory. In our example we can conclude that the \"zero test\" has passed."
   ]
  },
  {
   "cell_type": "markdown",
   "id": "56f75036",
   "metadata": {},
   "source": [
    "To demonstrate this point let's add very low noise to gyro readings and compute trajectory. "
   ]
  },
  {
   "cell_type": "code",
   "execution_count": 13,
   "id": "1f430932",
   "metadata": {},
   "source": [
    "gyro_parameters = pyins.inertial_sensor.Parameters(noise=0.001 * pyins.transform.DRH_TO_RRS, rng=0)\n",
    "accel_parameters = pyins.inertial_sensor.Parameters()\n",
    "imu_with_noise = pyins.inertial_sensor.apply_imu_parameters(imu, 'rate', gyro_parameters, accel_parameters)"
   ],
   "outputs": []
  },
  {
   "cell_type": "code",
   "execution_count": 14,
   "id": "9324db99",
   "metadata": {},
   "source": [
    "integrator = pyins.strapdown.Integrator(trajectory.iloc[0])\n",
    "increments_with_noise = pyins.strapdown.compute_increments_from_imu(imu_with_noise, 'rate')\n",
    "trajectory_computed_with_noise = integrator.integrate(increments_with_noise)"
   ],
   "outputs": []
  },
  {
   "cell_type": "code",
   "execution_count": 15,
   "id": "0626403e",
   "metadata": {},
   "source": [
    "error_with_noise = pyins.transform.compute_state_difference(trajectory_computed_with_noise, trajectory)"
   ],
   "outputs": []
  },
  {
   "cell_type": "code",
   "execution_count": 16,
   "id": "28c4f727",
   "metadata": {},
   "source": [
    "plt.figure(figsize=(10, 10))\n",
    "\n",
    "plt.subplot(311)\n",
    "plt.title(\"Position errors, m\")\n",
    "plt.plot(error_with_noise.north)\n",
    "plt.plot(error_with_noise.east)\n",
    "plt.plot(error_with_noise.down)\n",
    "\n",
    "plt.subplot(312)\n",
    "plt.title(\"Velocity errors, m/s\")\n",
    "plt.plot(error_with_noise.VN)\n",
    "plt.plot(error_with_noise.VE)\n",
    "plt.plot(error_with_noise.VD)\n",
    "\n",
    "plt.subplot(313)\n",
    "plt.title(\"Roll, pitch and heading errors, deg\")\n",
    "plt.plot(error_with_noise.roll)\n",
    "plt.plot(error_with_noise.pitch)\n",
    "plt.plot(error_with_noise.heading)\n",
    "\n",
    "plt.tight_layout()"
   ],
   "outputs": []
  },
  {
   "cell_type": "markdown",
   "id": "72c32b93",
   "metadata": {},
   "source": [
    "We can see that all errors were increased by about factor of 100. In reality there is also noise in accelerometers, biases and other IMU errors as well as errors in the initial conditions (mainly attitude \"alignment\" errors) and the errors will be much higher."
   ]
  },
  {
   "cell_type": "code",
   "execution_count": null,
   "id": "8e57a843",
   "metadata": {},
   "source": [],
   "outputs": []
  }
 ],
 "metadata": {
  "kernelspec": {
   "display_name": "Python 3 (ipykernel)",
   "language": "python",
   "name": "python3"
  },
  "language_info": {
   "codemirror_mode": {
    "name": "ipython",
    "version": 3
   },
   "file_extension": ".py",
   "mimetype": "text/x-python",
   "name": "python",
   "nbconvert_exporter": "python",
   "pygments_lexer": "ipython3",
   "version": "3.10.13"
  }
 },
 "nbformat": 4,
 "nbformat_minor": 5
}
